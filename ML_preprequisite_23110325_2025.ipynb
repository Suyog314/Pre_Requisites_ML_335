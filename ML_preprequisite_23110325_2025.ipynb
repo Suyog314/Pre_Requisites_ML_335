{
 "cells": [
  {
   "cell_type": "code",
   "execution_count": 50,
   "id": "e3e09cce-2e63-4abe-8649-d9d27d80d331",
   "metadata": {},
   "outputs": [
    {
     "name": "stdout",
     "output_type": "stream",
     "text": [
      "Multiplications: 60\n",
      "Additions: 48\n"
     ]
    }
   ],
   "source": [
    "# Question 1: \n",
    "\n",
    "def matrix_operations(n,m,k):\n",
    "    multiplications= n*m*k\n",
    "    additions= n*m*(k-1)\n",
    "    return multiplications, additions\n",
    "\n",
    "n = 3 \n",
    "k = 4  \n",
    "m = 5 \n",
    "mults, adds = matrix_operations(n, k, m)\n",
    "\n",
    "# when we multiply n*k ans k*m matrices we get a n*m matrix:\n",
    "# Also to get the value of 1 unit say (n-2,m-3)th block in multiplyed matrix we need to do k multiplications and k-1 additions to sum those products.\n",
    "# hence total multiplications is (n*m*k) and additions is (n*m*(k-1)) for all blocks altogether.\n",
    "\n",
    "print(\"Multiplications: \" + str(mults))\n",
    "print(\"Additions: \"+ str(adds))"
   ]
  },
  {
   "cell_type": "code",
   "execution_count": 59,
   "id": "dcccf294-bce1-400a-87e6-03a015d9741a",
   "metadata": {},
   "outputs": [
    {
     "name": "stdout",
     "output_type": "stream",
     "text": [
      "List-of-lists time: 0.000266 seconds\n",
      "NumPy time:         0.000105 seconds\n",
      "Numpy is faster\n"
     ]
    }
   ],
   "source": [
    "# question 2: \n",
    "\n",
    "import random\n",
    "import time\n",
    "import numpy as np\n",
    "\n",
    "n, k, m = 3, 4, 5\n",
    "\n",
    "A_list = [[random.random() for i in range(k)] for j in range(n)]\n",
    "B_list = [[random.random() for i in range(m)] for j in range(k)]\n",
    "A_np = np.array(A_list)\n",
    "B_np = np.array(B_list)\n",
    "\n",
    "# Using list of lists\n",
    "start_list = time.time()\n",
    "C_list = [[sum(A_list[i][p] * B_list[p][j] for p in range(k)) for j in range(m)] for i in range(n)]\n",
    "end_list = time.time()\n",
    "\n",
    "# Using NumPy\n",
    "start_np = time.time()\n",
    "C_np = np.dot(A_np, B_np)\n",
    "end_np = time.time()\n",
    "\n",
    "print(f\"List-of-lists time: {end_list - start_list:.6f} seconds\")\n",
    "print(f\"NumPy time:         {end_np - start_np:.6f} seconds\")\n",
    "print(\"Numpy is faster\")\n",
    "\n",
    "\n",
    "# reason:\n",
    "#NumPy operations are implemented in C and operate on whole arrays at once, \n",
    "#instead of looping in Python. This removes the overhead of Python’s slow for loops.\n",
    "\n",
    "\n"
   ]
  },
  {
   "cell_type": "markdown",
   "id": "45de9f38-bbed-48ec-a427-cf128b991996",
   "metadata": {},
   "source": [
    "# question 3:\n",
    "\n",
    "Finding the median by repeatedly scanning for the next largest element takes O(n²) time, which is slow.\n",
    "Better Method: To sort the list first in O(n log n) and pick the middle element, or use Quickselect to get the median in O(n) on average."
   ]
  },
  {
   "cell_type": "code",
   "execution_count": 1,
   "id": "e8b4dbcb-2c53-488a-9c89-7e10f6018c96",
   "metadata": {},
   "outputs": [
    {
     "name": "stdout",
     "output_type": "stream",
     "text": [
      "Repeated-pass median: 0.49724466122241995, Time: 0.27003 s\n",
      "Sorting median:       0.4973053889225423, Time: 0.00148 s\n",
      "Sorting method > Repeated-pass median\n"
     ]
    }
   ],
   "source": [
    "# Question 3:\n",
    "\n",
    "import numpy as np\n",
    "import time\n",
    "import random\n",
    "\n",
    "# O(n^2) repeated pass method\n",
    "def median_repeated_pass(arr):\n",
    "    arr_copy = arr[:]\n",
    "    n = len(arr_copy)\n",
    "    median_index = n // 2\n",
    "    for _ in range(median_index):\n",
    "        max_val = max(arr_copy)\n",
    "        arr_copy.remove(max_val)\n",
    "    return max(arr_copy)\n",
    "\n",
    "# Sorting method O(nlogn)\n",
    "def median_sort(arr):\n",
    "    arr_sorted = sorted(arr)\n",
    "    n = len(arr_sorted)\n",
    "    mid = n // 2\n",
    "    if n % 2 == 0:\n",
    "        return (arr_sorted[mid - 1] + arr_sorted[mid]) / 2\n",
    "    else:\n",
    "        return arr_sorted[mid]\n",
    "\n",
    "# data\n",
    "arr = [random.random() for i in range(5000)]\n",
    "arr_np = np.array(arr)\n",
    "\n",
    "# repeated-pass method\n",
    "start = time.time()\n",
    "median_rp = median_repeated_pass(arr)\n",
    "time_rp = time.time() - start\n",
    "\n",
    "# sorting method\n",
    "start = time.time()\n",
    "median_s = median_sort(arr)\n",
    "time_s = time.time() - start\n",
    "\n",
    "print(f\"Repeated-pass median: {median_rp}, Time: {time_rp:.5f} s\")\n",
    "print(f\"Sorting median:       {median_s}, Time: {time_s:.5f} s\")\n",
    "print(\"Sorting method > Repeated-pass median\")"
   ]
  },
  {
   "cell_type": "code",
   "execution_count": 71,
   "id": "99a018a6-acb4-4f5e-a401-16d2052214f7",
   "metadata": {},
   "outputs": [
    {
     "name": "stdout",
     "output_type": "stream",
     "text": [
      "f(2.0, 1.5) = 9.06888\n",
      "∂f/∂x at (2.0, 1.5) = 4.59550\n",
      "∂f/∂y at (2.0, 1.5) = 10.13776\n",
      "gradient of f(x, y) is = (4.59550, 10.13776)\n"
     ]
    }
   ],
   "source": [
    "Question 4:\n",
    "\n",
    "import math\n",
    "\n",
    "def func(x, y):\n",
    "    return x**2*y + y**3*math.sin(x)\n",
    "\n",
    "def gradient(x,y):\n",
    "    df_dx = 2*x*y + (y**3)*math.cos(x)\n",
    "    df_dy = x**2 + 3*(y**2)*math.sin(x)\n",
    "    return df_dx, df_dy\n",
    "\n",
    "x =2.0\n",
    "y =1.5\n",
    "df_dx, df_dy = gradient(x,y)\n",
    "\n",
    "print(f\"f({x}, {y}) = {func(x, y):.5f}\")\n",
    "print(f\"∂f/∂x at ({x}, {y}) = {df_dx:.5f}\")\n",
    "print(f\"∂f/∂y at ({x}, {y}) = {df_dy:.5f}\")\n",
    "print(f\"gradient of f(x, y) is = ({df_dx:.5f}, {df_dy:.5f})\")"
   ]
  },
  {
   "cell_type": "code",
   "execution_count": null,
   "id": "01216905-9e5b-4ad3-92af-556e88dda237",
   "metadata": {},
   "outputs": [],
   "source": [
    "import sys\n",
    "print(sys.executable)\n",
    "\n",
    "!C:\\Python313\\python.exe -m pip install --upgrade \"jax[cpu]\""
   ]
  },
  {
   "cell_type": "code",
   "execution_count": 2,
   "id": "f734047d-027a-4168-8176-5e85016ff19d",
   "metadata": {},
   "outputs": [
    {
     "name": "stdout",
     "output_type": "stream",
     "text": [
      "JAX version: 0.7.0\n",
      "x=1.02, y=-2.49\n",
      "Analytical gradient: (-13.205219804852891, 16.908860232358474)\n",
      "JAX gradient:        (-13.205219268798828, 16.908859252929688)\n",
      "\n",
      "x=3.38, y=7.10\n",
      "Analytical gradient: (-299.23994642233953, -24.359745101237245)\n",
      "JAX gradient:        (-299.2398986816406, -24.359752655029297)\n",
      "\n",
      "x=3.26, y=-4.27\n",
      "Analytical gradient: (49.62020665877209, 4.1020526959577435)\n",
      "JAX gradient:        (49.620208740234375, 4.102054595947266)\n",
      "\n",
      "x=9.77, y=-3.07\n",
      "Analytical gradient: (-32.80155670768619, 85.89853351328233)\n",
      "JAX gradient:        (-32.80154800415039, 85.8985366821289)\n",
      "\n",
      "x=-1.83, y=2.03\n",
      "Analytical gradient: (-9.550747726626467, -8.588268428409233)\n",
      "JAX gradient:        (-9.550747871398926, -8.58827018737793)\n",
      "\n"
     ]
    }
   ],
   "source": [
    "# question 5:\n",
    "\n",
    "import math\n",
    "import random\n",
    "import jax\n",
    "import jax.numpy as jnp\n",
    "print(\"JAX version:\", jax.__version__)\n",
    "\n",
    "def func(x, y):\n",
    "    return x**2*y + y**3*math.sin(x)\n",
    "\n",
    "def grad(x, y):\n",
    "    df_dx = 2 *x*y + (y**3)*math.cos(x)\n",
    "    df_dy = x**2 + 3*(y**2)*math.sin(x)\n",
    "    return df_dx, df_dy\n",
    "\n",
    "def f_jax(vars):\n",
    "    x, y = vars\n",
    "    return x**2*y + y**3*jnp.sin(x)\n",
    "\n",
    "\n",
    "grad_jax = jax.grad(f_jax)\n",
    "\n",
    "for i in range(5):\n",
    "    x_val = random.uniform(-10,10)\n",
    "    y_val = random.uniform(-10,10)\n",
    "\n",
    "    grad_a = grad(x_val, y_val)\n",
    "    grad_j = grad_jax(jnp.array([x_val, y_val]))\n",
    "\n",
    "    print(f\"x={x_val:.2f}, y={y_val:.2f}\")\n",
    "    print(f\"Analytical gradient: {grad_a}\")\n",
    "    print(f\"JAX gradient:        {tuple(float(v) for v in grad_j)}\")\n",
    "    print()"
   ]
  },
  {
   "cell_type": "code",
   "execution_count": 22,
   "id": "8a99ca63-9041-4052-9778-436bb3218802",
   "metadata": {},
   "outputs": [
    {
     "name": "stdout",
     "output_type": "stream",
     "text": [
      "Requirement already satisfied: sympy in c:\\python313\\lib\\site-packages (1.14.0)\n",
      "Requirement already satisfied: mpmath<1.4,>=1.1.0 in c:\\python313\\lib\\site-packages (from sympy) (1.3.0)\n"
     ]
    },
    {
     "name": "stderr",
     "output_type": "stream",
     "text": [
      "\n",
      "[notice] A new release of pip is available: 24.3.1 -> 25.2\n",
      "[notice] To update, run: C:\\Python313\\python.exe -m pip install --upgrade pip\n"
     ]
    }
   ],
   "source": [
    "!C:\\Python313\\python.exe -m pip install sympy"
   ]
  },
  {
   "cell_type": "code",
   "execution_count": 80,
   "id": "f466d2cd-3faa-477f-a2be-b97821ee7fe4",
   "metadata": {},
   "outputs": [
    {
     "name": "stdout",
     "output_type": "stream",
     "text": [
      "Function: x**2*y + y**3*sin(x)\n",
      "∂f/∂x = 2*x*y + y**3*cos(x)\n",
      "∂f/∂y = x**2 + 3*y**2*sin(x)\n",
      "Gradient vector = Matrix([[2*x*y + y**3*cos(x)], [x**2 + 3*y**2*sin(x)]])\n"
     ]
    }
   ],
   "source": [
    "# question 6:\n",
    "\n",
    "import sympy as sp\n",
    "\n",
    "x, y = sp.symbols('x y')\n",
    "f = x**2 * y + y**3*sp.sin(x)\n",
    "\n",
    "#partial derivatives\n",
    "df_dx = sp.diff(f, x)\n",
    "df_dy = sp.diff(f, y)\n",
    "\n",
    "print(\"Function:\", f)\n",
    "print(\"∂f/∂x =\", df_dx)\n",
    "print(\"∂f/∂y =\", df_dy)\n",
    "\n",
    "# gradient vector\n",
    "grad = sp.Matrix([df_dx, df_dy])\n",
    "print(\"Gradient vector =\", grad)\n"
   ]
  },
  {
   "cell_type": "code",
   "execution_count": 16,
   "id": "43257fa6-7dc7-46a6-b240-f929bf080377",
   "metadata": {},
   "outputs": [
    {
     "name": "stdout",
     "output_type": "stream",
     "text": [
      "{2022: {'Branch 1': [{'Marks': {'English': 70, 'Maths': 100},\n",
      "                      'Name': 'Suyog',\n",
      "                      'Roll Number': 1},\n",
      "                     {'Marks': {'English': 90, 'Maths': 85},\n",
      "                      'Name': 'Kunal',\n",
      "                      'Roll Number': 2}],\n",
      "        'Branch 2': [{'Marks': {'English': 88, 'Maths': 95},\n",
      "                      'Name': 'Atharva',\n",
      "                      'Roll Number': 3},\n",
      "                     {'Marks': {'English': 75, 'Maths': 98},\n",
      "                      'Name': 'Jainil',\n",
      "                      'Roll Number': 4}]},\n",
      " 2023: {'Branch 1': [{'Marks': {'English': 82, 'Maths': 78},\n",
      "                      'Name': 'Suteekhsna',\n",
      "                      'Roll Number': 5}],\n",
      "        'Branch 2': [{'Marks': {'English': 85, 'Maths': 92},\n",
      "                      'Name': 'Pawan',\n",
      "                      'Roll Number': 6}]},\n",
      " 2024: {'Branch 1': [{'Marks': {'English': 100, 'Maths': 35},\n",
      "                      'Name': 'Manas',\n",
      "                      'Roll Number': 7}],\n",
      "        'Branch 2': [{'Marks': {'English': 35, 'Maths': 100},\n",
      "                      'Name': 'Manas_2',\n",
      "                      'Roll Number': 8}]},\n",
      " 2025: {'Branch 1': [{'Marks': {'English': 82, 'Maths': 78},\n",
      "                      'Name': 'Tejas',\n",
      "                      'Roll Number': 9}],\n",
      "        'Branch 2': [{'Marks': {'English': 69, 'Maths': 50},\n",
      "                      'Name': 'Murli',\n",
      "                      'Roll Number': 10}]}}\n"
     ]
    }
   ],
   "source": [
    "# question 7:\n",
    "\n",
    "data = {\n",
    "    2022: {\n",
    "        \"Branch 1\": [\n",
    "            {\"Roll Number\": 1, \"Name\": \"Suyog\", \"Marks\": {\"Maths\": 100, \"English\": 70}},\n",
    "            {\"Roll Number\": 2, \"Name\": \"Kunal\", \"Marks\": {\"Maths\": 85, \"English\": 90}}\n",
    "        ],\n",
    "        \"Branch 2\": [\n",
    "            {\"Roll Number\": 3, \"Name\": \"Atharva\", \"Marks\": {\"Maths\": 95, \"English\": 88}},\n",
    "            {\"Roll Number\": 4, \"Name\": \"Jainil\", \"Marks\": {\"Maths\": 98, \"English\": 75}}\n",
    "        ]\n",
    "    },\n",
    "    2023: {\n",
    "        \"Branch 1\": [\n",
    "            {\"Roll Number\": 5, \"Name\": \"Suteekhsna\", \"Marks\": {\"Maths\": 78, \"English\": 82}}\n",
    "        ],\n",
    "        \"Branch 2\": [\n",
    "            {\"Roll Number\": 6, \"Name\": \"Pawan\", \"Marks\": {\"Maths\": 92, \"English\": 85}}\n",
    "        ]\n",
    "    },\n",
    "    2024: {\n",
    "        \"Branch 1\": [\n",
    "            {\"Roll Number\": 7, \"Name\": \"Manas\", \"Marks\": {\"Maths\": 35, \"English\": 100}}\n",
    "        ],\n",
    "        \"Branch 2\": [\n",
    "            {\"Roll Number\": 8, \"Name\": \"Manas_2\", \"Marks\": {\"Maths\": 100, \"English\": 35}}\n",
    "        ]\n",
    "    },\n",
    "    2025: {\n",
    "        \"Branch 1\": [\n",
    "            {\"Roll Number\": 9, \"Name\": \"Tejas\", \"Marks\": {\"Maths\": 78, \"English\": 82}}\n",
    "        ],\n",
    "        \"Branch 2\": [\n",
    "            {\"Roll Number\": 10, \"Name\": \"Murli\", \"Marks\": {\"Maths\": 50, \"English\": 69}}\n",
    "        ]\n",
    "    }\n",
    "}\n",
    "\n",
    "from pprint import pprint\n",
    "pprint(data)"
   ]
  },
  {
   "cell_type": "code",
   "execution_count": 20,
   "id": "acb27598-62ba-4150-81de-631bc8a26a52",
   "metadata": {},
   "outputs": [
    {
     "name": "stdout",
     "output_type": "stream",
     "text": [
      "Year: 2022\n",
      "  Branch 1:\n",
      "    Roll Number: 1, Name: Suyog\n",
      "      Maths: 100\n",
      "      English: 70\n",
      "    Roll Number: 2, Name: Kunal\n",
      "      Maths: 85\n",
      "      English: 90\n",
      "  Branch 2:\n",
      "    Roll Number: 3, Name: Atharva\n",
      "      Maths: 95\n",
      "      English: 88\n",
      "    Roll Number: 4, Name: Jainil\n",
      "      Maths: 98\n",
      "      English: 75\n",
      "Year: 2023\n",
      "  Branch 1:\n",
      "    Roll Number: 5, Name: Suteekhsna\n",
      "      Maths: 78\n",
      "      English: 82\n",
      "  Branch 2:\n",
      "    Roll Number: 6, Name: Pawan\n",
      "      Maths: 92\n",
      "      English: 85\n",
      "Year: 2024\n",
      "  Branch 1:\n",
      "    Roll Number: 7, Name: Manas\n",
      "      Maths: 35\n",
      "      English: 100\n",
      "  Branch 2:\n",
      "    Roll Number: 8, Name: Manas_2\n",
      "      Maths: 100\n",
      "      English: 35\n",
      "Year: 2025\n",
      "  Branch 1:\n",
      "    Roll Number: 9, Name: Tejas\n",
      "      Maths: 78\n",
      "      English: 82\n",
      "  Branch 2:\n",
      "    Roll Number: 10, Name: Murli\n",
      "      Maths: 50\n",
      "      English: 69\n"
     ]
    }
   ],
   "source": [
    "# question 8:\n",
    "\n",
    "class Student:\n",
    "    def __init__(self, roll_number, name, marks):\n",
    "        self.roll_number = roll_number\n",
    "        self.name = name\n",
    "        self.marks = marks  \n",
    "\n",
    "    def __repr__(self):\n",
    "        return f\"Roll: {self.roll_number}, Name: {self.name}, Marks: {self.marks}\"\n",
    "\n",
    "\n",
    "class Branch:\n",
    "    def __init__(self, name):\n",
    "        self.name = name\n",
    "        self.students = []\n",
    "\n",
    "    def add_student(self, student):\n",
    "        self.students.append(student)\n",
    "\n",
    "    def __repr__(self):\n",
    "        return f\"Branch: {self.name}, Students: {self.students}\"\n",
    "\n",
    "\n",
    "class Year:\n",
    "    def __init__(self, year):\n",
    "        self.year = year\n",
    "        self.branches = []\n",
    "\n",
    "    def add_branch(self, branch):\n",
    "        self.branches.append(branch)\n",
    "\n",
    "    def __repr__(self):\n",
    "        return f\"Year: {self.year}, Branches: {self.branches}\"\n",
    "\n",
    "\n",
    "class Database:\n",
    "    def __init__(self):\n",
    "        self.years = []\n",
    "\n",
    "    def add_year(self, year):\n",
    "        self.years.append(year)\n",
    "\n",
    "    def __repr__(self):\n",
    "        return f\"Database: {self.years}\"\n",
    "\n",
    "\n",
    "db = Database()\n",
    "\n",
    "year_2022 = Year(2022)\n",
    "branch1_2022 = Branch(\"Branch 1\")\n",
    "branch1_2022.add_student(Student(1, \"Suyog\", {\"Maths\": 100, \"English\": 70}))\n",
    "branch1_2022.add_student(Student(2, \"Kunal\", {\"Maths\": 85, \"English\": 90}))\n",
    "\n",
    "branch2_2022 = Branch(\"Branch 2\")\n",
    "branch2_2022.add_student(Student(3, \"Atharva\", {\"Maths\": 95, \"English\": 88}))\n",
    "branch2_2022.add_student(Student(4, \"Jainil\", {\"Maths\": 98, \"English\": 75}))\n",
    "\n",
    "year_2022.add_branch(branch1_2022)\n",
    "year_2022.add_branch(branch2_2022)\n",
    "db.add_year(year_2022)\n",
    "\n",
    "year_2023 = Year(2023)\n",
    "branch1_2023 = Branch(\"Branch 1\")\n",
    "branch1_2023.add_student(Student(5, \"Suteekhsna\", {\"Maths\": 78, \"English\": 82}))\n",
    "\n",
    "branch2_2023 = Branch(\"Branch 2\")\n",
    "branch2_2023.add_student(Student(6, \"Pawan\", {\"Maths\": 92, \"English\": 85}))\n",
    "\n",
    "year_2023.add_branch(branch1_2023)\n",
    "year_2023.add_branch(branch2_2023)\n",
    "db.add_year(year_2023)\n",
    "\n",
    "year_2024 = Year(2024)\n",
    "branch1_2024 = Branch(\"Branch 1\")\n",
    "branch1_2024.add_student(Student(7, \"Manas\", {\"Maths\": 35, \"English\": 100}))\n",
    "\n",
    "branch2_2024 = Branch(\"Branch 2\")\n",
    "branch2_2024.add_student(Student(8, \"Manas_2\", {\"Maths\": 100, \"English\": 35}))\n",
    "\n",
    "year_2024.add_branch(branch1_2024)\n",
    "year_2024.add_branch(branch2_2024)\n",
    "db.add_year(year_2024)\n",
    "\n",
    "year_2025 = Year(2025)\n",
    "branch1_2025 = Branch(\"Branch 1\")\n",
    "branch1_2025.add_student(Student(9, \"Tejas\", {\"Maths\": 78, \"English\": 82}))\n",
    "\n",
    "branch2_2025 = Branch(\"Branch 2\")\n",
    "branch2_2025.add_student(Student(10, \"Murli\", {\"Maths\": 50, \"English\": 69}))\n",
    "\n",
    "year_2025.add_branch(branch1_2025)\n",
    "year_2025.add_branch(branch2_2025)\n",
    "db.add_year(year_2025)\n",
    "\n",
    "for year in db.years:\n",
    "    print(f\"Year: {year.year}\")\n",
    "    for branch in year.branches:\n",
    "        print(f\"  {branch.name}:\")\n",
    "        for student in branch.students:\n",
    "            print(f\"    Roll Number: {student.roll_number}, Name: {student.name}\")\n",
    "            for subject, marks in student.marks.items():\n",
    "                print(f\"      {subject}: {marks}\")\n"
   ]
  },
  {
   "cell_type": "code",
   "execution_count": 21,
   "id": "1f5bad90-74a9-4e8a-919f-62ea801b71cb",
   "metadata": {},
   "outputs": [
    {
     "name": "stdout",
     "output_type": "stream",
     "text": [
      "Requirement already satisfied: matplotlib in c:\\python313\\lib\\site-packages (3.10.5)\n",
      "Requirement already satisfied: contourpy>=1.0.1 in c:\\python313\\lib\\site-packages (from matplotlib) (1.3.3)\n",
      "Requirement already satisfied: cycler>=0.10 in c:\\python313\\lib\\site-packages (from matplotlib) (0.12.1)\n",
      "Requirement already satisfied: fonttools>=4.22.0 in c:\\python313\\lib\\site-packages (from matplotlib) (4.59.0)\n",
      "Requirement already satisfied: kiwisolver>=1.3.1 in c:\\python313\\lib\\site-packages (from matplotlib) (1.4.8)\n",
      "Requirement already satisfied: numpy>=1.23 in c:\\python313\\lib\\site-packages (from matplotlib) (2.3.2)\n",
      "Requirement already satisfied: packaging>=20.0 in c:\\python313\\lib\\site-packages (from matplotlib) (25.0)\n",
      "Requirement already satisfied: pillow>=8 in c:\\python313\\lib\\site-packages (from matplotlib) (11.3.0)\n",
      "Requirement already satisfied: pyparsing>=2.3.1 in c:\\python313\\lib\\site-packages (from matplotlib) (3.2.3)\n",
      "Requirement already satisfied: python-dateutil>=2.7 in c:\\python313\\lib\\site-packages (from matplotlib) (2.9.0.post0)\n",
      "Requirement already satisfied: six>=1.5 in c:\\python313\\lib\\site-packages (from python-dateutil>=2.7->matplotlib) (1.17.0)\n"
     ]
    },
    {
     "name": "stderr",
     "output_type": "stream",
     "text": [
      "\n",
      "[notice] A new release of pip is available: 24.3.1 -> 25.2\n",
      "[notice] To update, run: C:\\Python313\\python.exe -m pip install --upgrade pip\n"
     ]
    }
   ],
   "source": [
    "!C:\\Python313\\python.exe -m pip install matplotlib"
   ]
  },
  {
   "cell_type": "code",
   "execution_count": 4,
   "id": "fd7a525c-46e6-404e-a247-98e56177d6a6",
   "metadata": {},
   "outputs": [
    {
     "data": {
      "image/png": "[encoded data removed]",
      "text/plain": [
       "<Figure size 1200x800 with 1 Axes>"
      ]
     },
     "metadata": {},
     "output_type": "display_data"
    }
   ],
   "source": [
    "#question 9\n",
    "\n",
    "import numpy as np\n",
    "import matplotlib.pyplot as plt\n",
    "x = np.arange(0.5, 100.5, 0.5)  \n",
    "\n",
    "y1 = x\n",
    "y2 = x**2\n",
    "y3 = x**3/100\n",
    "y4 = np.sin(x)\n",
    "y5 = np.sin(x)/x\n",
    "y6 = np.log(x)        \n",
    "y7 = np.exp(x)        \n",
    "\n",
    "plt.figure(figsize=(12, 8))\n",
    "\n",
    "plt.plot(x,y1,linewidth=2)\n",
    "plt.plot(x,y2, label=r\"y=x^2\", linewidth=2)\n",
    "plt.plot(x,y3, label=r\"y=x^3/100\", linewidth=2)\n",
    "plt.plot(x,y4, label=r\"y=sin(x)\", linewidth=2)\n",
    "plt.plot(x,y5, label=r\"y=sin(x)/x\", linewidth=2)\n",
    "plt.plot(x,y6, label=r\"y=log(x)\", linewidth=2)\n",
    "plt.plot(x,y7, label=r\"y=e^x\", linewidth=2)\n",
    "plt.xlabel(\"x\", fontsize=14)\n",
    "plt.ylabel(\"y\", fontsize=14)\n",
    "plt.title(\"Function Plots\", fontsize=16)\n",
    "plt.legend(fontsize=10)\n",
    "plt.grid(True)\n",
    "plt.ylim(-10, 100)  \n",
    "plt.show()"
   ]
  },
  {
   "cell_type": "code",
   "execution_count": 41,
   "id": "34eda96f-25c1-46cd-b1a7-9ee60bd213bc",
   "metadata": {},
   "outputs": [
    {
     "name": "stdout",
     "output_type": "stream",
     "text": [
      "Collecting pandas\n",
      "  Downloading pandas-2.3.1-cp313-cp313-win_amd64.whl.metadata (19 kB)\n",
      "Requirement already satisfied: numpy>=1.26.0 in c:\\python313\\lib\\site-packages (from pandas) (2.3.2)\n",
      "Requirement already satisfied: python-dateutil>=2.8.2 in c:\\python313\\lib\\site-packages (from pandas) (2.9.0.post0)\n",
      "Collecting pytz>=2020.1 (from pandas)\n",
      "  Using cached pytz-2025.2-py2.py3-none-any.whl.metadata (22 kB)\n",
      "Collecting tzdata>=2022.7 (from pandas)\n",
      "  Using cached tzdata-2025.2-py2.py3-none-any.whl.metadata (1.4 kB)\n",
      "Requirement already satisfied: six>=1.5 in c:\\python313\\lib\\site-packages (from python-dateutil>=2.8.2->pandas) (1.17.0)\n",
      "Downloading pandas-2.3.1-cp313-cp313-win_amd64.whl (11.0 MB)\n",
      "   ---------------------------------------- 0.0/11.0 MB ? eta -:--:--\n",
      "   ------ --------------------------------- 1.8/11.0 MB 14.5 MB/s eta 0:00:01\n",
      "   -------------------- ------------------- 5.5/11.0 MB 16.6 MB/s eta 0:00:01\n",
      "   -------------------------- ------------- 7.3/11.0 MB 13.7 MB/s eta 0:00:01\n",
      "   ----------------------------------- ---- 9.7/11.0 MB 13.4 MB/s eta 0:00:01\n",
      "   ---------------------------------------- 11.0/11.0 MB 12.0 MB/s eta 0:00:00\n",
      "Using cached pytz-2025.2-py2.py3-none-any.whl (509 kB)\n",
      "Using cached tzdata-2025.2-py2.py3-none-any.whl (347 kB)\n",
      "Installing collected packages: pytz, tzdata, pandas\n",
      "Successfully installed pandas-2.3.1 pytz-2025.2 tzdata-2025.2\n"
     ]
    },
    {
     "name": "stderr",
     "output_type": "stream",
     "text": [
      "\n",
      "[notice] A new release of pip is available: 24.3.1 -> 25.2\n",
      "[notice] To update, run: C:\\Python313\\python.exe -m pip install --upgrade pip\n"
     ]
    }
   ],
   "source": [
    "!C:\\Python313\\python.exe -m pip install pandas"
   ]
  },
  {
   "cell_type": "code",
   "execution_count": 8,
   "id": "060aceec-85e1-4819-9f20-1990dcfceb20",
   "metadata": {},
   "outputs": [
    {
     "name": "stdout",
     "output_type": "stream",
     "text": [
      "DataFrame:\n",
      "            a         b         c         d         e\n",
      "0   1.033984  1.208973  1.546624  1.685723  1.240650\n",
      "1   1.819864  1.375174  1.315120  1.500415  1.912888\n",
      "2   1.300195  1.384432  1.389535  1.833065  1.274829\n",
      "3   1.633840  1.230261  1.132366  1.448185  1.237312\n",
      "4   1.038801  1.856115  1.300947  1.427567  1.515787\n",
      "5   1.702694  1.401150  1.639190  1.518835  1.221831\n",
      "6   1.254900  1.486886  1.587232  1.787988  1.801224\n",
      "7   1.802523  1.395978  1.115573  1.275957  1.905653\n",
      "8   1.525890  1.826797  1.151894  1.714425  1.831538\n",
      "9   1.990499  1.365115  1.855401  1.187204  1.613659\n",
      "10  1.663088  1.841677  1.842719  1.065232  1.066691\n",
      "11  1.743688  1.241158  1.284457  1.661202  1.861882\n",
      "12  1.629368  1.932932  1.569127  1.003151  1.116462\n",
      "13  1.519794  1.003115  1.137774  1.762110  1.509543\n",
      "14  1.922319  1.332626  1.937718  1.577832  1.303979\n",
      "15  1.491268  1.100950  1.570317  1.260732  1.189267\n",
      "16  1.311819  1.341241  1.441331  1.485341  1.651730\n",
      "17  1.572785  1.052574  1.325685  1.871096  1.426763\n",
      "18  1.070181  1.800252  1.686855  1.894083  1.607227\n",
      "19  1.631465  1.129062  1.322203  1.064779  1.584058\n",
      "\n",
      "Column with highest std deviation: b\n",
      "\n",
      "Row with lowest mean (index=15):\n",
      " a    1.491268\n",
      "b    1.100950\n",
      "c    1.570317\n",
      "d    1.260732\n",
      "e    1.189267\n",
      "Name: 15, dtype: float64\n"
     ]
    }
   ],
   "source": [
    "# question 10:\n",
    "\n",
    "import numpy as np\n",
    "import pandas as pd\n",
    "\n",
    "matrix = np.random.uniform(1, 2, size=(20, 5))\n",
    "df = pd.DataFrame(matrix, columns=[\"a\",\"b\",\"c\",\"d\",\"e\"])\n",
    "print(\"DataFrame:\\n\", df)\n",
    "\n",
    "col_std = df.std()\n",
    "highest_std= col_std.idxmax()\n",
    "\n",
    "row_mean = df.mean(axis=1)\n",
    "lowest_mean_row_index = row_mean.idxmin()\n",
    "lowest_mean_row = df.loc[lowest_mean_row_index]\n",
    "\n",
    "\n",
    "print(\"\\nColumn with highest std deviation:\", highest_std)\n",
    "print(\"\\nRow with lowest mean (index={}):\\n\".format(lowest_mean_row_index), lowest_mean_row)\n"
   ]
  },
  {
   "cell_type": "code",
   "execution_count": 12,
   "id": "835fa9c2-43de-44a6-9554-0d4b3a35a1e9",
   "metadata": {
    "collapsed": true,
    "jupyter": {
     "outputs_hidden": true
    },
    "scrolled": true
   },
   "outputs": [
    {
     "name": "stdout",
     "output_type": "stream",
     "text": [
      "           a         b         c         d         e         f    g\n",
      "0   1.033984  1.208973  1.546624  1.685723  1.240650  6.715954  LT8\n",
      "1   1.819864  1.375174  1.315120  1.500415  1.912888  7.923462  LT8\n",
      "2   1.300195  1.384432  1.389535  1.833065  1.274829  7.182056  LT8\n",
      "3   1.633840  1.230261  1.132366  1.448185  1.237312  6.681964  LT8\n",
      "4   1.038801  1.856115  1.300947  1.427567  1.515787  7.139218  LT8\n",
      "5   1.702694  1.401150  1.639190  1.518835  1.221831  7.483700  LT8\n",
      "6   1.254900  1.486886  1.587232  1.787988  1.801224  7.918230  LT8\n",
      "7   1.802523  1.395978  1.115573  1.275957  1.905653  7.495684  LT8\n",
      "8   1.525890  1.826797  1.151894  1.714425  1.831538  8.050543  GT8\n",
      "9   1.990499  1.365115  1.855401  1.187204  1.613659  8.011879  GT8\n",
      "10  1.663088  1.841677  1.842719  1.065232  1.066691  7.479407  LT8\n",
      "11  1.743688  1.241158  1.284457  1.661202  1.861882  7.792387  LT8\n",
      "12  1.629368  1.932932  1.569127  1.003151  1.116462  7.251041  LT8\n",
      "13  1.519794  1.003115  1.137774  1.762110  1.509543  6.932336  LT8\n",
      "14  1.922319  1.332626  1.937718  1.577832  1.303979  8.074474  GT8\n",
      "15  1.491268  1.100950  1.570317  1.260732  1.189267  6.612535  LT8\n",
      "16  1.311819  1.341241  1.441331  1.485341  1.651730  7.231461  LT8\n",
      "17  1.572785  1.052574  1.325685  1.871096  1.426763  7.248904  LT8\n",
      "18  1.070181  1.800252  1.686855  1.894083  1.607227  8.058597  GT8\n",
      "19  1.631465  1.129062  1.322203  1.064779  1.584058  6.731566  LT8\n",
      "\n",
      "Number of rows where g == 'LT8': 16\n",
      "Std deviation of f for LT8 rows: 0.4290294813894818\n",
      "Std deviation of f for GT8 rows: 0.026591769828686496\n"
     ]
    }
   ],
   "source": [
    "# question 11:\n",
    "\n",
    "df[\"f\"] = df[[\"a\", \"b\", \"c\", \"d\", \"e\"]].sum(axis=1)\n",
    "df[\"g\"] = np.where(df[\"f\"] < 8, \"LT8\", \"GT8\")\n",
    "print(df)\n",
    "\n",
    "lt8= (df[\"g\"] == \"LT8\").sum()\n",
    "std_lt8 = df.loc[df[\"g\"] == \"LT8\", \"f\"].std()\n",
    "std_gt8 = df.loc[df[\"g\"] == \"GT8\", \"f\"].std()\n",
    "\n",
    "print(\"\\nNumber of rows where g == 'LT8':\", lt8)\n",
    "print(\"Std deviation of f for LT8 rows:\", std_lt8)\n",
    "print(\"Std deviation of f for GT8 rows:\", std_gt8)"
   ]
  },
  {
   "cell_type": "code",
   "execution_count": 86,
   "id": "990f8e4e-0e9d-48e6-90e3-bc43badf43dc",
   "metadata": {},
   "outputs": [
    {
     "name": "stdout",
     "output_type": "stream",
     "text": [
      "Matrix A:\n",
      "[[1 2 3]\n",
      " [4 5 6]\n",
      " [7 8 9]]\n",
      "\n",
      "Array b:\n",
      "[10 20 30]\n",
      "\n",
      "A + b\n",
      "[[11 22 33]\n",
      " [14 25 36]\n",
      " [17 28 39]]\n",
      "Broadcasting: b is stretched to match A's shape for addition\n"
     ]
    }
   ],
   "source": [
    "# question 12:\n",
    "\n",
    "import numpy as np\n",
    "A = np.array([[1, 2, 3],\n",
    "              [4, 5, 6],\n",
    "              [7, 8, 9]])\n",
    "\n",
    "b = np.array([10, 20, 30])\n",
    "\n",
    "print(\"Matrix A:\")\n",
    "print(A)\n",
    "print(\"\\nArray b:\")\n",
    "print(b)\n",
    "print(\"\\nA + b\")\n",
    "print(A+b)\n",
    "print(\"Broadcasting: b is stretched to match A's shape for addition\")"
   ]
  },
  {
   "cell_type": "code",
   "execution_count": 3,
   "id": "8210bd02-cc29-4477-bbac-71d918ea6b64",
   "metadata": {},
   "outputs": [
    {
     "name": "stdout",
     "output_type": "stream",
     "text": [
      "Array: [ 12  10  99 -14  16]\n",
      "argmin index: 933\n",
      "np.argmin index: 3\n"
     ]
    }
   ],
   "source": [
    "# question 13:\n",
    "\n",
    "import numpy as np\n",
    "\n",
    "def my_argmin(array):\n",
    "    min_idx = 0\n",
    "    mini = arr[0]\n",
    "    for i in range(1, len(arr)):\n",
    "        if arr[i] < mini:\n",
    "            mini = arr[i]\n",
    "            min_idx = i\n",
    "    return min_idx\n",
    "\n",
    "data = np.array([12,10,99,-14,16])\n",
    "\n",
    "print(\"Array:\",data)\n",
    "print(\"argmin index:\", my_argmin(data))\n",
    "print(\"np.argmin index:\", np.argmin(data))"
   ]
  },
  {
   "cell_type": "code",
   "execution_count": null,
   "id": "a3fbabcc-f071-49e5-b19f-c3256b988633",
   "metadata": {},
   "outputs": [],
   "source": []
  }
 ],
 "metadata": {
  "kernelspec": {
   "display_name": "Python 3 (ipykernel)",
   "language": "python",
   "name": "python3"
  },
  "language_info": {
   "codemirror_mode": {
    "name": "ipython",
    "version": 3
   },
   "file_extension": ".py",
   "mimetype": "text/x-python",
   "name": "python",
   "nbconvert_exporter": "python",
   "pygments_lexer": "ipython3",
   "version": "3.13.2"
  }
 },
 "nbformat": 4,
 "nbformat_minor": 5
}
